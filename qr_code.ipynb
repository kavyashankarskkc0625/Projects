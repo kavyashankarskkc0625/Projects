{
 "cells": [
  {
   "cell_type": "code",
   "execution_count": 1,
   "id": "48667fde-5a0c-424e-9e74-6897d6907761",
   "metadata": {},
   "outputs": [
    {
     "name": "stdout",
     "output_type": "stream",
     "text": [
      "Collecting qrcode[pil]\n",
      "  Downloading qrcode-8.0-py3-none-any.whl.metadata (17 kB)\n",
      "Requirement already satisfied: colorama in c:\\users\\kavya shankar\\anaconda3\\lib\\site-packages (from qrcode[pil]) (0.4.6)\n",
      "Requirement already satisfied: pillow>=9.1.0 in c:\\users\\kavya shankar\\anaconda3\\lib\\site-packages (from qrcode[pil]) (10.2.0)\n",
      "Downloading qrcode-8.0-py3-none-any.whl (45 kB)\n",
      "   ---------------------------------------- 0.0/45.7 kB ? eta -:--:--\n",
      "   -------- ------------------------------- 10.2/45.7 kB ? eta -:--:--\n",
      "   ----------------- ---------------------- 20.5/45.7 kB 330.3 kB/s eta 0:00:01\n",
      "   ----------------------------------- ---- 41.0/45.7 kB 326.8 kB/s eta 0:00:01\n",
      "   ---------------------------------------- 45.7/45.7 kB 283.8 kB/s eta 0:00:00\n",
      "Installing collected packages: qrcode\n",
      "Successfully installed qrcode-8.0\n",
      "Note: you may need to restart the kernel to use updated packages.\n"
     ]
    }
   ],
   "source": [
    "pip install \"qrcode[pil]\""
   ]
  },
  {
   "cell_type": "code",
   "execution_count": 3,
   "id": "78734b86-8290-49e1-b7f0-7e966658f82f",
   "metadata": {},
   "outputs": [],
   "source": [
    "import qrcode\n",
    "from PIL import Image\n",
    "qr=qrcode.QRCode(version=1, error_correction=qrcode.constants.ERROR_CORRECT_H, box_size=10,border=4,)\n",
    "qr.add_data(\"https://www.linkedin.com/in/kavyashankar25?utm_source=share&utm_campaign=share_via&utm_content=profile&utm_medium=android_app\")\n",
    "qr.make(fit=True)\n",
    "img=qr.make_image(fill_color=\"Black\",back_color=\"white\")\n",
    "img.save(\"linked_qr1.png\")"
   ]
  },
  {
   "cell_type": "code",
   "execution_count": null,
   "id": "a407d9bc-a811-44f7-bd91-d8f9b0573f4e",
   "metadata": {},
   "outputs": [],
   "source": []
  },
  {
   "cell_type": "code",
   "execution_count": null,
   "id": "3c4ce4fd-d523-4902-8293-12330390fc85",
   "metadata": {},
   "outputs": [],
   "source": []
  }
 ],
 "metadata": {
  "kernelspec": {
   "display_name": "Python 3 (ipykernel)",
   "language": "python",
   "name": "python3"
  },
  "language_info": {
   "codemirror_mode": {
    "name": "ipython",
    "version": 3
   },
   "file_extension": ".py",
   "mimetype": "text/x-python",
   "name": "python",
   "nbconvert_exporter": "python",
   "pygments_lexer": "ipython3",
   "version": "3.11.7"
  }
 },
 "nbformat": 4,
 "nbformat_minor": 5
}
